{
  "cells": [
    {
      "cell_type": "code",
      "execution_count": null,
      "metadata": {
        "colab": {
          "base_uri": "https://localhost:8080/"
        },
        "id": "5E0lxrThy4DZ",
        "outputId": "632feaa7-c7f8-4341-dad6-700f905d06b6"
      },
      "outputs": [
        {
          "output_type": "stream",
          "name": "stdout",
          "text": [
            "Mounted at /content/drive\n"
          ]
        }
      ],
      "source": [
        "from google.colab import drive\n",
        "drive.mount('/content/drive')"
      ]
    },
    {
      "cell_type": "markdown",
      "metadata": {
        "id": "aw8jET8Iegr6"
      },
      "source": [
        "# **CNN LSTM**"
      ]
    },
    {
      "cell_type": "code",
      "execution_count": null,
      "metadata": {
        "id": "u7qhMLxddPB5",
        "colab": {
          "base_uri": "https://localhost:8080/"
        },
        "outputId": "30581c7e-c866-49bd-923a-05535b10b5c7"
      },
      "outputs": [
        {
          "output_type": "stream",
          "name": "stdout",
          "text": [
            "Epoch 1/20\n",
            "625/625 [==============================] - 51s 75ms/step - loss: 0.4071 - accuracy: 0.8022 - val_loss: 0.3058 - val_accuracy: 0.8679\n",
            "Epoch 2/20\n",
            "625/625 [==============================] - 46s 74ms/step - loss: 0.2806 - accuracy: 0.8868 - val_loss: 0.2929 - val_accuracy: 0.8743\n",
            "Epoch 3/20\n",
            "625/625 [==============================] - 49s 78ms/step - loss: 0.2402 - accuracy: 0.9051 - val_loss: 0.3027 - val_accuracy: 0.8633\n",
            "Epoch 4/20\n",
            "625/625 [==============================] - 47s 75ms/step - loss: 0.2017 - accuracy: 0.9236 - val_loss: 0.3278 - val_accuracy: 0.8704\n",
            "Epoch 5/20\n",
            "625/625 [==============================] - 46s 74ms/step - loss: 0.1651 - accuracy: 0.9406 - val_loss: 0.3370 - val_accuracy: 0.8673\n",
            "Epoch 6/20\n",
            "625/625 [==============================] - 47s 75ms/step - loss: 0.1305 - accuracy: 0.9537 - val_loss: 0.4180 - val_accuracy: 0.8555\n",
            "Epoch 7/20\n",
            "625/625 [==============================] - 47s 76ms/step - loss: 0.1021 - accuracy: 0.9637 - val_loss: 0.4405 - val_accuracy: 0.8592\n",
            "Epoch 8/20\n",
            "625/625 [==============================] - 52s 82ms/step - loss: 0.0822 - accuracy: 0.9721 - val_loss: 0.4655 - val_accuracy: 0.8587\n",
            "Epoch 9/20\n",
            "625/625 [==============================] - 49s 78ms/step - loss: 0.0694 - accuracy: 0.9767 - val_loss: 0.5501 - val_accuracy: 0.8576\n",
            "Epoch 10/20\n",
            "625/625 [==============================] - 46s 74ms/step - loss: 0.0591 - accuracy: 0.9801 - val_loss: 0.6501 - val_accuracy: 0.8506\n",
            "Epoch 11/20\n",
            "625/625 [==============================] - 50s 80ms/step - loss: 0.0489 - accuracy: 0.9833 - val_loss: 0.5990 - val_accuracy: 0.8593\n",
            "Epoch 12/20\n",
            "625/625 [==============================] - 46s 74ms/step - loss: 0.0416 - accuracy: 0.9864 - val_loss: 0.6171 - val_accuracy: 0.8567\n",
            "Epoch 13/20\n",
            "625/625 [==============================] - 46s 74ms/step - loss: 0.0391 - accuracy: 0.9870 - val_loss: 0.6216 - val_accuracy: 0.8556\n",
            "Epoch 14/20\n",
            "625/625 [==============================] - 52s 83ms/step - loss: 0.0327 - accuracy: 0.9893 - val_loss: 0.7167 - val_accuracy: 0.8571\n",
            "Epoch 15/20\n",
            "625/625 [==============================] - 47s 75ms/step - loss: 0.0320 - accuracy: 0.9892 - val_loss: 0.7079 - val_accuracy: 0.8566\n",
            "Epoch 16/20\n",
            "625/625 [==============================] - 46s 73ms/step - loss: 0.0251 - accuracy: 0.9916 - val_loss: 0.8880 - val_accuracy: 0.8561\n",
            "Epoch 17/20\n",
            "625/625 [==============================] - 46s 74ms/step - loss: 0.0268 - accuracy: 0.9912 - val_loss: 0.7558 - val_accuracy: 0.8541\n",
            "Epoch 18/20\n",
            "625/625 [==============================] - 48s 77ms/step - loss: 0.0234 - accuracy: 0.9922 - val_loss: 0.8961 - val_accuracy: 0.8496\n",
            "Epoch 19/20\n",
            "625/625 [==============================] - 48s 77ms/step - loss: 0.0208 - accuracy: 0.9937 - val_loss: 0.9145 - val_accuracy: 0.8474\n",
            "Epoch 20/20\n",
            "625/625 [==============================] - 48s 76ms/step - loss: 0.0217 - accuracy: 0.9927 - val_loss: 0.8401 - val_accuracy: 0.8549\n"
          ]
        }
      ],
      "source": [
        "import pandas as pd\n",
        "import numpy as np\n",
        "import tensorflow as tf\n",
        "from tensorflow.keras.preprocessing.text import Tokenizer\n",
        "from tensorflow.keras.preprocessing.sequence import pad_sequences\n",
        "from tensorflow.keras.layers import Input, Embedding, Conv1D, MaxPooling1D, LSTM, Dense, Dropout\n",
        "from tensorflow.keras.models import Model\n",
        "from sklearn.model_selection import train_test_split\n",
        "\n",
        "# Load the dataset\n",
        "data = pd.read_csv('/content/drive/MyDrive/Greeshmanth - Ann/IMDBDatasetfinal.csv')\n",
        "\n",
        "# Preprocess the text data\n",
        "tokenizer = Tokenizer(num_words=5000)\n",
        "tokenizer.fit_on_texts(data['review'])\n",
        "sequences = tokenizer.texts_to_sequences(data['review'])\n",
        "X = pad_sequences(sequences, maxlen=100)\n",
        "\n",
        "# Split the data into training and testing sets\n",
        "y = np.array(data['label'])\n",
        "X_train, X_test, y_train, y_test = train_test_split(X, y, test_size=0.2, random_state=42)\n",
        "\n",
        "# Define the model architecture\n",
        "input_layer = Input(shape=(100,))\n",
        "embedding_layer = Embedding(input_dim=5000, output_dim=32, input_length=100)(input_layer)\n",
        "conv1_layer = Conv1D(filters=32, kernel_size=3, padding='same', activation='relu')(embedding_layer)\n",
        "pool1_layer = MaxPooling1D(pool_size=2)(conv1_layer)\n",
        "lstm1_layer = LSTM(units=32, dropout=0.2, recurrent_dropout=0.2)(pool1_layer)\n",
        "dense1_layer = Dense(units=64, activation='relu')(lstm1_layer)\n",
        "dropout1_layer = Dropout(rate=0.5)(dense1_layer)\n",
        "output_layer = Dense(units=1, activation='sigmoid')(dropout1_layer)\n",
        "\n",
        "model = Model(inputs=input_layer, outputs=output_layer)\n",
        "\n",
        "# Compile the model\n",
        "model.compile(optimizer='adam', loss='binary_crossentropy', metrics=['accuracy'])\n",
        "\n",
        "# Train the model\n",
        "history = model.fit(X_train, y_train, validation_data=(X_test, y_test), epochs=20, batch_size=64)\n",
        "\n",
        "\n"
      ]
    },
    {
      "cell_type": "code",
      "execution_count": null,
      "metadata": {
        "id": "H49fivpKe0Hf",
        "colab": {
          "base_uri": "https://localhost:8080/"
        },
        "outputId": "c655f3a2-9b97-4fe3-becd-d2131b7c530b"
      },
      "outputs": [
        {
          "output_type": "stream",
          "name": "stdout",
          "text": [
            "313/313 [==============================] - 5s 14ms/step - loss: 0.8401 - accuracy: 0.8549\n",
            "Test Loss: 0.8401174545288086\n",
            "Test Accuracy: 0.8549000024795532\n"
          ]
        }
      ],
      "source": [
        "test_loss, test_accuracy = model.evaluate(X_test, y_test)\n",
        "\n",
        "print('Test Loss:', test_loss)\n",
        "print('Test Accuracy:', test_accuracy)\n"
      ]
    },
    {
      "cell_type": "code",
      "execution_count": null,
      "metadata": {
        "colab": {
          "base_uri": "https://localhost:8080/"
        },
        "id": "V6R20ezX3H8L",
        "outputId": "7c0a5ac3-8da1-4c3e-d006-013ff7225984"
      },
      "outputs": [
        {
          "output_type": "stream",
          "name": "stdout",
          "text": [
            "Enter a review: the movie is bad and not interesting.\n",
            "1/1 [==============================] - 0s 389ms/step\n",
            "The review is negative.\n"
          ]
        }
      ],
      "source": [
        "# Save the model and weights\n",
        "model.save('/content/drive/MyDrive/Greeshmanth - Ann/sentiment_model_cnn_lstm.h5')\n",
        "model.save_weights('/content/drive/MyDrive/Greeshmanth - Ann/sentiment_model_weights_cnn_lstm.h5')\n",
        "\n",
        "# Load the saved model and weights\n",
        "loaded_model = tf.keras.models.load_model('/content/drive/MyDrive/Greeshmanth - Ann/sentiment_model_cnn_lstm.h5')\n",
        "loaded_model.load_weights('/content/drive/MyDrive/Greeshmanth - Ann/sentiment_model_weights_cnn_lstm.h5')\n",
        "\n",
        "# Take review from user and evaluate positive or negative\n",
        "new_review = input('Enter a review: ')\n",
        "new_sequence = tokenizer.texts_to_sequences([new_review])\n",
        "new_X = pad_sequences(new_sequence, maxlen=100)\n",
        "\n",
        "# Make prediction on new review\n",
        "prediction = loaded_model.predict(new_X)\n",
        "\n",
        "# Print the prediction\n",
        "if prediction > 0.5:\n",
        "    print('The review is positive.')\n",
        "else:\n",
        "    print('The review is negative.')"
      ]
    },
    {
      "cell_type": "code",
      "source": [
        "import matplotlib.pyplot as plt\n",
        "\n",
        "# Plot training & validation accuracy values\n",
        "plt.plot(history.history['accuracy'])\n",
        "plt.plot(history.history['val_accuracy'])\n",
        "plt.title('Model accuracy')\n",
        "plt.ylabel('Accuracy')\n",
        "plt.xlabel('Epoch')\n",
        "plt.legend(['Train', 'Validation'], loc='upper left')\n",
        "plt.show()"
      ],
      "metadata": {
        "colab": {
          "base_uri": "https://localhost:8080/",
          "height": 295
        },
        "id": "9Gmb9GtxYqi3",
        "outputId": "6b9c20d8-0329-4918-ab1d-886565dfd595"
      },
      "execution_count": null,
      "outputs": [
        {
          "output_type": "display_data",
          "data": {
            "text/plain": [
              "<Figure size 432x288 with 1 Axes>"
            ],
            "image/png": "[encoded data removed]"
          },
          "metadata": {
            "needs_background": "light"
          }
        }
      ]
    },
    {
      "cell_type": "code",
      "source": [
        "# Plot training & validation loss values\n",
        "plt.plot(history.history['loss'])\n",
        "plt.plot(history.history['val_loss'])\n",
        "plt.title('Model loss')\n",
        "plt.ylabel('Loss')\n",
        "plt.xlabel('Epoch')\n",
        "plt.legend(['Train', 'Validation'], loc='upper left')\n",
        "plt.show()"
      ],
      "metadata": {
        "colab": {
          "base_uri": "https://localhost:8080/",
          "height": 295
        },
        "id": "AJO20rFOaI9W",
        "outputId": "1dc5ed51-9f90-4df3-9423-ad3d824c2c7b"
      },
      "execution_count": null,
      "outputs": [
        {
          "output_type": "display_data",
          "data": {
            "text/plain": [
              "<Figure size 432x288 with 1 Axes>"
            ],
            "image/png": "[encoded data removed]"
          },
          "metadata": {
            "needs_background": "light"
          }
        }
      ]
    }
  ],
  "metadata": {
    "colab": {
      "provenance": []
    },
    "gpuClass": "premium",
    "kernelspec": {
      "display_name": "Python 3",
      "name": "python3"
    },
    "language_info": {
      "name": "python"
    }
  },
  "nbformat": 4,
  "nbformat_minor": 0
}